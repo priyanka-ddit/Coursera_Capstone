{
 "cells": [
  {
   "cell_type": "markdown",
   "metadata": {},
   "source": [
    "# Predict Traffic Accident Severity\n",
    "\n",
    "\n",
    "#### Priyanka Dave\n",
    "#### October 2020"
   ]
  },
  {
   "cell_type": "markdown",
   "metadata": {},
   "source": [
    "<img src=\"img.jpg\" alt=\"Predict Traffic Accident Severity\" title=\"Predict Traffic Accident Severity\" />"
   ]
  },
  {
   "cell_type": "markdown",
   "metadata": {},
   "source": [
    "## Table of content\n",
    "1. [Introduction](#intro)\n",
    "2. [Data](#data)"
   ]
  },
  {
   "cell_type": "markdown",
   "metadata": {},
   "source": [
    "##  1. Introduction<a id='intro'>"
   ]
  },
  {
   "cell_type": "markdown",
   "metadata": {},
   "source": [
    "Road traffic injuries are currently estimated to be the eighth leading cause of death across all age groups globally, and are predicted to become the seventh leading cause of death by 2030.\n",
    "\n",
    "In an effort to reduce the frequency of car collisions in a community, an algorithim must be developed to predict the severity of an accident given the current weather, road and visibility conditions. When conditions are bad, this model will alert drivers to remind them to be more careful.\n",
    "\n",
    "These insights, could allow law enforcement bodies to allocate their resources more effectively in advance of potential accidents, preventing when and where a severe accidents can occur as well as saving both, time and money. In addition, this knowledge of a severe accident situation can be warned to drivers so that they would drive more carefully or even change their route if it is possible or to hospital which could have set everything ready for a severe intervention in advance.\n",
    "\n",
    "Governments should be highly interested in accurate predictions of the severity of an accident, in order to reduce the time of arrival and thus save a significant amount of people each year. Others interested could be private companies investing in technologies aiming to improve road safeness."
   ]
  },
  {
   "cell_type": "markdown",
   "metadata": {},
   "source": [
    "## 2. Data<a id='data'>"
   ]
  },
  {
   "cell_type": "markdown",
   "metadata": {},
   "source": [
    "- The original data for this project comes from the following [Click Here](https://s3.us.cloud-object-storage.appdomain.cloud/cf-courses-data/CognitiveClass/DP0701EN/version-2/Data-Collisions.csv).\n",
    "- Initial dataset having 194673 samples and 38 features.\n",
    "- After removing features having identification numbers, features having more than 40% null values and features which are irrelevant to the application, I left with below list of features:\n",
    "\n",
    "    1. **SEVERITYCODE** - Target variable. 1: Property Damege, 2: Injury\n",
    "    1. **ADDRTYPE** - Collision address type. Alley, Block, Intersection\n",
    "    1. **COLLISIONTYPE** - Collision type. Parked Car, Angles, Rear Ended, etc...\n",
    "    1. **PERSONCOUNT** - Total number of people involved in the collision.\n",
    "    1. **VEHCOUNT** - Total number of vehicles involved in the collision.\n",
    "    1. **JUNCTIONTYPE** - Category of junction at which collision took place\n",
    "    1. **UNDERINFL** - Whether or not a driver involved was under the influence of drugs or alcohol.\n",
    "    1. **WEATHER** - Description of the weather conditions during the time of the collision.\n",
    "    1. **ROADCOND** - Condition of the road during the collision.\n",
    "    1. **LIGHTCOND** - Light conditions during the collision.\n",
    "    1. **MONTH** - Month in which collision happened.\n",
    "    1. **DAY_OF_WEEK** - Day of week of collision.\n",
    "\n",
    "\n"
   ]
  },
  {
   "cell_type": "code",
   "execution_count": null,
   "metadata": {},
   "outputs": [],
   "source": []
  }
 ],
 "metadata": {
  "kernelspec": {
   "display_name": "Python 3",
   "language": "python",
   "name": "python3"
  },
  "language_info": {
   "codemirror_mode": {
    "name": "ipython",
    "version": 3
   },
   "file_extension": ".py",
   "mimetype": "text/x-python",
   "name": "python",
   "nbconvert_exporter": "python",
   "pygments_lexer": "ipython3",
   "version": "3.8.4"
  }
 },
 "nbformat": 4,
 "nbformat_minor": 4
}
